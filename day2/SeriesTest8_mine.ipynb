{
 "cells": [
  {
   "cell_type": "code",
   "execution_count": 1,
   "metadata": {},
   "outputs": [],
   "source": [
    "import pandas as pd\n",
    "import numpy as np\n",
    "import matplotlib.pyplot as plt\n",
    "import matplotlib\n",
    "matplotlib.rcParams['font.family'] = 'Malgun Gothic'\n",
    "matplotlib.rcParams['axes.unicode_minus'] = False"
   ]
  },
  {
   "cell_type": "code",
   "execution_count": 29,
   "metadata": {},
   "outputs": [
    {
     "name": "stdout",
     "output_type": "stream",
     "text": [
      "홍길동     90\n",
      "이순신     90\n",
      "임꺽정     55\n",
      "정난정     60\n",
      "이이      76\n",
      "이황      80\n",
      "정도전     76\n",
      "김철수1    88\n",
      "김철수2    30\n",
      "김철수3    25\n",
      "Name: 국어점수, dtype: int64\n"
     ]
    }
   ],
   "source": [
    "sr = pd.Series([90, 90, 55, 60, 76, 80, 76, 88, 30, 25], name=\"국어점수\")\n",
    "sr.index=['홍길동', '이순신', '임꺽정', '정난정', '이이', '이황', '정도전', '김철수1', '김철수2', '김철수3']\n",
    "print(sr)\n",
    "\n",
    "def init_series():\n",
    "    sr = pd.Series([90, 90, 55, 60, 76, 80, 76, 88, 30, 25], name=\"국어점수\")\n",
    "    sr.index=['홍길동', '이순신', '임꺽정', '정난정', '이이', '이황', '정도전', '김철수1', '김철수2', '김철수3']\n",
    "    return sr"
   ]
  },
  {
   "cell_type": "code",
   "execution_count": 3,
   "metadata": {},
   "outputs": [
    {
     "name": "stdout",
     "output_type": "stream",
     "text": [
      "90\n"
     ]
    }
   ],
   "source": [
    "# 국어점수가 가장 큰 값을 구하시오\n",
    "print(sr.max())"
   ]
  },
  {
   "cell_type": "code",
   "execution_count": 4,
   "metadata": {},
   "outputs": [
    {
     "data": {
      "text/plain": [
       "Index(['홍길동', '이순신'], dtype='object')"
      ]
     },
     "execution_count": 4,
     "metadata": {},
     "output_type": "execute_result"
    }
   ],
   "source": [
    "# 국어점수가 가장 큰 값의 이름을 구하시오\n",
    "# sr.idxmax()\n",
    "sr[sr == sr.max()].index"
   ]
  },
  {
   "cell_type": "code",
   "execution_count": 5,
   "metadata": {},
   "outputs": [
    {
     "data": {
      "text/plain": [
       "홍길동     90\n",
       "이순신     90\n",
       "이황      80\n",
       "김철수1    88\n",
       "Name: 국어점수, dtype: int64"
      ]
     },
     "execution_count": 5,
     "metadata": {},
     "output_type": "execute_result"
    }
   ],
   "source": [
    "# 국어점수가 80점 이상인 값을 구하시오\n",
    "sr[sr>=80]"
   ]
  },
  {
   "cell_type": "code",
   "execution_count": 6,
   "metadata": {},
   "outputs": [
    {
     "name": "stdout",
     "output_type": "stream",
     "text": [
      "임꺽정    55\n",
      "정난정    60\n",
      "이이     76\n",
      "이황     80\n",
      "정도전    76\n",
      "Name: 국어점수, dtype: int64\n"
     ]
    }
   ],
   "source": [
    "# 국어점수가 50점 이상 80점 이하인 값을 구하시오\n",
    "print(sr[ (sr >= 50) & (sr <= 80) ])"
   ]
  },
  {
   "cell_type": "code",
   "execution_count": 7,
   "metadata": {},
   "outputs": [
    {
     "data": {
      "text/plain": [
       "김철수1    88\n",
       "김철수2    30\n",
       "김철수3    25\n",
       "Name: 국어점수, dtype: int64"
      ]
     },
     "execution_count": 7,
     "metadata": {},
     "output_type": "execute_result"
    }
   ],
   "source": [
    "sr[sr.index.str.contains('^김')]"
   ]
  },
  {
   "cell_type": "code",
   "execution_count": 8,
   "metadata": {},
   "outputs": [
    {
     "data": {
      "text/plain": [
       "67.0"
      ]
     },
     "execution_count": 8,
     "metadata": {},
     "output_type": "execute_result"
    }
   ],
   "source": [
    "sr.mean()"
   ]
  },
  {
   "cell_type": "code",
   "execution_count": 9,
   "metadata": {},
   "outputs": [
    {
     "data": {
      "text/plain": [
       "670"
      ]
     },
     "execution_count": 9,
     "metadata": {},
     "output_type": "execute_result"
    }
   ],
   "source": [
    "sr.sum()"
   ]
  },
  {
   "cell_type": "code",
   "execution_count": 10,
   "metadata": {},
   "outputs": [
    {
     "data": {
      "text/plain": [
       "23.94"
      ]
     },
     "execution_count": 10,
     "metadata": {},
     "output_type": "execute_result"
    }
   ],
   "source": [
    "sr.std()\n",
    "round(sr.std(), 2)"
   ]
  },
  {
   "cell_type": "code",
   "execution_count": 11,
   "metadata": {},
   "outputs": [
    {
     "name": "stdout",
     "output_type": "stream",
     "text": [
      "홍길동     90\n",
      "이순신     90\n",
      "임꺽정     55\n",
      "정난정     60\n",
      "이이      76\n",
      "이황      80\n",
      "정도전     76\n",
      "김철수1    88\n",
      "김철수2    30\n",
      "김철수3    25\n",
      "Name: 국어점수, dtype: int64\n"
     ]
    }
   ],
   "source": [
    "print(sr)"
   ]
  },
  {
   "cell_type": "code",
   "execution_count": 12,
   "metadata": {},
   "outputs": [
    {
     "name": "stdout",
     "output_type": "stream",
     "text": [
      "홍길동     90\n",
      "이순신     90\n",
      "임꺽정     55\n",
      "정난정     60\n",
      "이이      76\n",
      "이황      80\n",
      "정도전     76\n",
      "김철수1    88\n",
      "Name: 국어점수, dtype: int64\n"
     ]
    }
   ],
   "source": [
    "# drop <= 40\n",
    "old_sr = sr\n",
    "sr.drop(sr[sr<=40].index, inplace=True)\n",
    "print(sr)\n",
    "sr = old_sr"
   ]
  },
  {
   "cell_type": "code",
   "execution_count": 19,
   "metadata": {},
   "outputs": [
    {
     "name": "stdout",
     "output_type": "stream",
     "text": [
      "홍길동     99.0\n",
      "이순신     99.0\n",
      "임꺽정     60.5\n",
      "정난정     66.0\n",
      "이이      83.6\n",
      "이황      88.0\n",
      "정도전     83.6\n",
      "김철수1    96.8\n",
      "Name: 국어점수, dtype: float64\n",
      "\n",
      "홍길동     90\n",
      "이순신     90\n",
      "임꺽정     55\n",
      "정난정     60\n",
      "이이      76\n",
      "이황      80\n",
      "정도전     76\n",
      "김철수1    88\n",
      "Name: 국어점수, dtype: int64\n"
     ]
    },
    {
     "data": {
      "text/plain": [
       "홍길동     99.0\n",
       "이순신     99.0\n",
       "임꺽정     60.5\n",
       "정난정     66.0\n",
       "이이      83.6\n",
       "이황      88.0\n",
       "정도전     83.6\n",
       "김철수1    96.8\n",
       "Name: 국어점수, dtype: float64"
      ]
     },
     "execution_count": 19,
     "metadata": {},
     "output_type": "execute_result"
    }
   ],
   "source": [
    "# 가산점\n",
    "print(sr[sr>=50]*1.1)\n",
    "print()\n",
    "print(sr)\n",
    "\n",
    "sr.apply(lambda v: v*1.1 if v >= 50 else v)"
   ]
  },
  {
   "cell_type": "code",
   "execution_count": 20,
   "metadata": {},
   "outputs": [
    {
     "name": "stdout",
     "output_type": "stream",
     "text": [
      "홍길동     90\n",
      "이순신     90\n",
      "임꺽정     55\n",
      "정난정     60\n",
      "이이      76\n",
      "이황      80\n",
      "정도전     76\n",
      "김철수1    88\n",
      "Name: 국어점수, dtype: int64\n"
     ]
    }
   ],
   "source": [
    "print(sr)"
   ]
  },
  {
   "cell_type": "code",
   "execution_count": 27,
   "metadata": {},
   "outputs": [
    {
     "data": {
      "text/plain": [
       "이순신     90\n",
       "홍길동     90\n",
       "김철수1    88\n",
       "이황      80\n",
       "정도전     76\n",
       "이이      76\n",
       "Name: 국어점수, dtype: int64"
      ]
     },
     "execution_count": 27,
     "metadata": {},
     "output_type": "execute_result"
    }
   ],
   "source": [
    "# 국어점수 top5\n",
    "\n",
    "sr[sr>=sr.sort_values(ascending=False)[5]].sort_values(ascending=False)\n",
    "#sr.sort_values(ascending=False)[0:5] or .head(5)"
   ]
  },
  {
   "cell_type": "code",
   "execution_count": 22,
   "metadata": {
    "scrolled": true
   },
   "outputs": [
    {
     "data": {
      "image/png": "[encoded data removed]",
      "text/plain": [
       "<Figure size 720x360 with 1 Axes>"
      ]
     },
     "metadata": {
      "needs_background": "light"
     },
     "output_type": "display_data"
    }
   ],
   "source": [
    "# 국어점수가 50점 이상인 데이터의 바차트를 그리시오\n",
    "sr[sr>=50].plot(kind=\"bar\", figsize=(10, 5), grid=True)\n",
    "plt.show()"
   ]
  },
  {
   "cell_type": "code",
   "execution_count": 28,
   "metadata": {},
   "outputs": [
    {
     "name": "stdout",
     "output_type": "stream",
     "text": [
      "홍길동     90\n",
      "이순신     90\n",
      "임꺽정     55\n",
      "정난정     60\n",
      "이이      76\n",
      "이황      80\n",
      "정도전     76\n",
      "김철수1    88\n",
      "Name: 국어점수, dtype: int64\n"
     ]
    }
   ],
   "source": [
    "print(sr)"
   ]
  },
  {
   "cell_type": "code",
   "execution_count": 31,
   "metadata": {},
   "outputs": [
    {
     "name": "stdout",
     "output_type": "stream",
     "text": [
      "홍길동     90\n",
      "이순신     90\n",
      "임꺽정     55\n",
      "정난정     60\n",
      "이이      76\n",
      "이황      80\n",
      "정도전     76\n",
      "김철수1    88\n",
      "김철수2    30\n",
      "김철수3    25\n",
      "Name: 국어점수, dtype: int64\n"
     ]
    }
   ],
   "source": [
    "sr = init_series()\n",
    "print(sr)"
   ]
  },
  {
   "cell_type": "code",
   "execution_count": 32,
   "metadata": {},
   "outputs": [
    {
     "name": "stdout",
     "output_type": "stream",
     "text": [
      "90    2\n",
      "76    2\n",
      "30    1\n",
      "60    1\n",
      "25    1\n",
      "88    1\n",
      "55    1\n",
      "80    1\n",
      "Name: 국어점수, dtype: int64\n"
     ]
    }
   ],
   "source": [
    "print(sr.value_counts())"
   ]
  },
  {
   "cell_type": "code",
   "execution_count": 34,
   "metadata": {},
   "outputs": [],
   "source": [
    "cData = pd.cut(sr, 7)"
   ]
  },
  {
   "cell_type": "code",
   "execution_count": 35,
   "metadata": {},
   "outputs": [
    {
     "name": "stdout",
     "output_type": "stream",
     "text": [
      "(80.714, 90.0]\n"
     ]
    }
   ],
   "source": [
    "print(cData[0])"
   ]
  },
  {
   "cell_type": "code",
   "execution_count": 41,
   "metadata": {},
   "outputs": [
    {
     "data": {
      "text/plain": [
       "Interval(80.714, 90.0, closed='right')"
      ]
     },
     "execution_count": 41,
     "metadata": {},
     "output_type": "execute_result"
    }
   ],
   "source": [
    "cData[0]"
   ]
  },
  {
   "cell_type": "code",
   "execution_count": 42,
   "metadata": {},
   "outputs": [
    {
     "name": "stdout",
     "output_type": "stream",
     "text": [
      "80.714\n",
      "90.0\n",
      "right\n"
     ]
    },
    {
     "data": {
      "text/plain": [
       "True"
      ]
     },
     "execution_count": 42,
     "metadata": {},
     "output_type": "execute_result"
    }
   ],
   "source": [
    "intv = cData[0]\n",
    "print(intv.left)\n",
    "print(intv.right)\n",
    "print(intv.closed)\n",
    "80.9 in intv"
   ]
  },
  {
   "cell_type": "code",
   "execution_count": 49,
   "metadata": {},
   "outputs": [
    {
     "data": {
      "text/plain": [
       "<matplotlib.axes._subplots.AxesSubplot at 0x1d340efc940>"
      ]
     },
     "execution_count": 49,
     "metadata": {},
     "output_type": "execute_result"
    },
    {
     "data": {
      "image/png": "[encoded data removed]",
      "text/plain": [
       "<Figure size 432x288 with 1 Axes>"
      ]
     },
     "metadata": {
      "needs_background": "light"
     },
     "output_type": "display_data"
    }
   ],
   "source": [
    "cData.value_counts().plot(kind=\"hist\", bins=7)    # 도수 분포표\n"
   ]
  },
  {
   "cell_type": "code",
   "execution_count": 54,
   "metadata": {},
   "outputs": [
    {
     "data": {
      "image/png": "[encoded data removed]",
      "text/plain": [
       "<Figure size 720x360 with 1 Axes>"
      ]
     },
     "metadata": {
      "needs_background": "light"
     },
     "output_type": "display_data"
    }
   ],
   "source": [
    "sr.plot(kind='hist', bins=7, figsize=(10, 5), grid=True)\n",
    "plt.show()"
   ]
  },
  {
   "cell_type": "code",
   "execution_count": 56,
   "metadata": {},
   "outputs": [
    {
     "data": {
      "text/plain": [
       "array([90, 55, 60, 76, 80, 88, 30, 25], dtype=int64)"
      ]
     },
     "execution_count": 56,
     "metadata": {},
     "output_type": "execute_result"
    }
   ],
   "source": [
    "sr.unique()"
   ]
  },
  {
   "cell_type": "code",
   "execution_count": 57,
   "metadata": {},
   "outputs": [
    {
     "name": "stdout",
     "output_type": "stream",
     "text": [
      "홍길동     90\n",
      "이순신     90\n",
      "임꺽정     55\n",
      "정난정     60\n",
      "이이      76\n",
      "이황      80\n",
      "정도전     76\n",
      "김철수1    88\n",
      "김철수2    30\n",
      "김철수3    25\n",
      "Name: 국어점수, dtype: int64\n"
     ]
    }
   ],
   "source": [
    "sr = init_series()\n",
    "print(sr)"
   ]
  },
  {
   "cell_type": "code",
   "execution_count": 83,
   "metadata": {},
   "outputs": [
    {
     "data": {
      "text/plain": [
       "이름\n",
       "김철수1    88\n",
       "김철수2    30\n",
       "김철수3    25\n",
       "이순신     90\n",
       "이이      76\n",
       "이황      80\n",
       "임꺽정     55\n",
       "정난정     60\n",
       "정도전     76\n",
       "홍길동     90\n",
       "Name: 국어점수, dtype: int64"
      ]
     },
     "execution_count": 83,
     "metadata": {},
     "output_type": "execute_result"
    }
   ],
   "source": [
    "# 13\n",
    "#sr[sr.index.sort_values()]\n",
    "sr.sort_index()"
   ]
  },
  {
   "cell_type": "code",
   "execution_count": 62,
   "metadata": {},
   "outputs": [
    {
     "name": "stdout",
     "output_type": "stream",
     "text": [
      "Name: 홍길동\n"
     ]
    },
    {
     "data": {
      "text/plain": [
       "홍길동    90\n",
       "Name: 국어점수, dtype: int64"
      ]
     },
     "execution_count": 62,
     "metadata": {},
     "output_type": "execute_result"
    }
   ],
   "source": [
    "# 14\n",
    "sr[sr.index.str.contains(\"^\" + input(\"Name: \") + \"$\")]"
   ]
  },
  {
   "cell_type": "code",
   "execution_count": 90,
   "metadata": {},
   "outputs": [
    {
     "name": "stdout",
     "output_type": "stream",
     "text": [
      "==============================\n",
      "        이름        국어\n",
      "==============================\n",
      "       홍길동        90\n",
      "       이순신        90\n",
      "       임꺽정        55\n",
      "       정난정        60\n",
      "        이이        76\n",
      "        이황        80\n",
      "       정도전        76\n",
      "      김철수1        88\n",
      "      김철수2        30\n",
      "      김철수3        25\n"
     ]
    }
   ],
   "source": [
    "# 15\n",
    "# sr.index.name = \"이름\"\n",
    "# print(\"---------------------\")\n",
    "# print(\"이름\\t\\t국어\")\n",
    "# print(\"---------------------\")\n",
    "# for k, v in sr.items():\n",
    "#     print(str(k) + '\\t\\t' + str(v))\n",
    "\n",
    "print(\"=\" * 30)\n",
    "print(\"%10s%10s\"%('이름', '국어'))\n",
    "print(\"=\" * 30)\n",
    "for k, v in sr.items():\n",
    "    print(\"%10s%10d\"%(k,v))\n",
    "\n"
   ]
  },
  {
   "cell_type": "code",
   "execution_count": 91,
   "metadata": {},
   "outputs": [
    {
     "data": {
      "text/plain": [
       "이름\n",
       "홍길동     100\n",
       "이순신     100\n",
       "임꺽정      65\n",
       "정난정      70\n",
       "이이       86\n",
       "이황       90\n",
       "정도전      86\n",
       "김철수1     98\n",
       "김철수2     50\n",
       "김철수3     45\n",
       "Name: 국어점수, dtype: int64"
      ]
     },
     "execution_count": 91,
     "metadata": {},
     "output_type": "execute_result"
    }
   ],
   "source": [
    "# 16\n",
    "sr.apply(lambda v: v + 20 if v < 50 else v + 10)"
   ]
  },
  {
   "cell_type": "code",
   "execution_count": 78,
   "metadata": {},
   "outputs": [
    {
     "data": {
      "text/plain": [
       "0.1    29.5\n",
       "0.5    76.0\n",
       "0.9    90.0\n",
       "Name: 국어점수, dtype: float64"
      ]
     },
     "execution_count": 78,
     "metadata": {},
     "output_type": "execute_result"
    }
   ],
   "source": [
    "# 17\n",
    "sr.quantile([0.1, 0.5, 0.9])"
   ]
  },
  {
   "cell_type": "code",
   "execution_count": 89,
   "metadata": {},
   "outputs": [
    {
     "data": {
      "text/plain": [
       "(24.935, 38.0]    2\n",
       "(38.0, 51.0]      0\n",
       "(51.0, 64.0]      2\n",
       "(64.0, 77.0]      2\n",
       "(77.0, 90.0]      4\n",
       "Name: 국어점수, dtype: int64"
      ]
     },
     "execution_count": 89,
     "metadata": {},
     "output_type": "execute_result"
    }
   ],
   "source": [
    "# 18\n",
    "# pd.cut(sr, 5).value_counts()\n",
    "pd.cut(sr, 5).value_counts().sort_index()"
   ]
  },
  {
   "cell_type": "code",
   "execution_count": 92,
   "metadata": {},
   "outputs": [],
   "source": [
    "mysr = pd.Series()\n"
   ]
  },
  {
   "cell_type": "code",
   "execution_count": 93,
   "metadata": {},
   "outputs": [],
   "source": [
    "mysr['aaa'] = 10"
   ]
  },
  {
   "cell_type": "code",
   "execution_count": 94,
   "metadata": {},
   "outputs": [
    {
     "name": "stdout",
     "output_type": "stream",
     "text": [
      "aaa    10\n",
      "dtype: int64\n"
     ]
    }
   ],
   "source": [
    "print(mysr)"
   ]
  }
 ],
 "metadata": {
  "kernelspec": {
   "display_name": "Python 3",
   "language": "python",
   "name": "python3"
  },
  "language_info": {
   "codemirror_mode": {
    "name": "ipython",
    "version": 3
   },
   "file_extension": ".py",
   "mimetype": "text/x-python",
   "name": "python",
   "nbconvert_exporter": "python",
   "pygments_lexer": "ipython3",
   "version": "3.7.1"
  }
 },
 "nbformat": 4,
 "nbformat_minor": 2
}
