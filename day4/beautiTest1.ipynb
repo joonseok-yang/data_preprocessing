{
 "cells": [
  {
   "cell_type": "code",
   "execution_count": null,
   "metadata": {},
   "outputs": [],
   "source": [
    "# BeautifulSoup\n",
    "# selenium(브라우저직접제어)"
   ]
  },
  {
   "cell_type": "code",
   "execution_count": 1,
   "metadata": {},
   "outputs": [],
   "source": [
    "from bs4 import BeautifulSoup"
   ]
  },
  {
   "cell_type": "code",
   "execution_count": 2,
   "metadata": {},
   "outputs": [
    {
     "data": {
      "text/plain": [
       "<kpop>\n",
       "<slist>\n",
       "<song album=\"album1\">\n",
       "<singer>singer1</singer>\n",
       "<title>title1</title>\n",
       "</song>\n",
       "<song album=\"album2\">\n",
       "<singer>singer2</singer>\n",
       "<title>title2</title>\n",
       "</song>\n",
       "<song album=\"album3\">\n",
       "<singer>singer3</singer>\n",
       "<title>title3</title>\n",
       "</song>\n",
       "</slist>\n",
       "</kpop>"
      ]
     },
     "execution_count": 2,
     "metadata": {},
     "output_type": "execute_result"
    }
   ],
   "source": [
    "fp = open('song.xml')\n",
    "soup = BeautifulSoup(fp, 'html.parser') #str-->element객체\n",
    "soup #kpop"
   ]
  },
  {
   "cell_type": "code",
   "execution_count": 9,
   "metadata": {},
   "outputs": [
    {
     "data": {
      "text/plain": [
       "<song album=\"album2\">\n",
       "<singer>singer2</singer>\n",
       "<title>title2</title>\n",
       "</song>"
      ]
     },
     "execution_count": 9,
     "metadata": {},
     "output_type": "execute_result"
    }
   ],
   "source": [
    "# soup.slist # .(자식 후손 element)\n",
    "# soup.find('slist')\n",
    "# soup.song\n",
    "# soup.find('song',{'album':'album2'})"
   ]
  },
  {
   "cell_type": "code",
   "execution_count": 12,
   "metadata": {},
   "outputs": [
    {
     "data": {
      "text/plain": [
       "'singer1'"
      ]
     },
     "execution_count": 12,
     "metadata": {},
     "output_type": "execute_result"
    }
   ],
   "source": [
    "soup.song.singer.string"
   ]
  },
  {
   "cell_type": "code",
   "execution_count": 14,
   "metadata": {},
   "outputs": [],
   "source": [
    "songs = soup.findAll('song')"
   ]
  },
  {
   "cell_type": "code",
   "execution_count": 20,
   "metadata": {},
   "outputs": [
    {
     "name": "stdout",
     "output_type": "stream",
     "text": [
      "album1\n",
      "singer1\n",
      "title1\n",
      "=====\n",
      "album2\n",
      "singer2\n",
      "title2\n",
      "=====\n",
      "album3\n",
      "singer3\n",
      "title3\n",
      "=====\n"
     ]
    }
   ],
   "source": [
    "for song in songs:\n",
    "    print(song['album'])\n",
    "    print(song.singer.string)\n",
    "    print(song.title.string)\n",
    "    print(\"=====\")"
   ]
  }
 ],
 "metadata": {
  "kernelspec": {
   "display_name": "Python 3",
   "language": "python",
   "name": "python3"
  },
  "language_info": {
   "codemirror_mode": {
    "name": "ipython",
    "version": 3
   },
   "file_extension": ".py",
   "mimetype": "text/x-python",
   "name": "python",
   "nbconvert_exporter": "python",
   "pygments_lexer": "ipython3",
   "version": "3.7.1"
  }
 },
 "nbformat": 4,
 "nbformat_minor": 2
}
