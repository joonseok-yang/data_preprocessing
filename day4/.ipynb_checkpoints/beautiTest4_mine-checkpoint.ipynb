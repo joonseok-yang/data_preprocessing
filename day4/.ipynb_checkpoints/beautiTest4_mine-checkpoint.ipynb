{
 "cells": [
  {
   "cell_type": "code",
   "execution_count": 1,
   "metadata": {},
   "outputs": [],
   "source": [
    "from bs4 import BeautifulSoup\n",
    "import urllib.request as REQ"
   ]
  },
  {
   "cell_type": "code",
   "execution_count": 2,
   "metadata": {},
   "outputs": [
    {
     "data": {
      "text/plain": [
       "<html>\n",
       "<body>\n",
       "<h1>테스트1</h1>\n",
       "<h1 class=\"my\">테스트2</h1>\n",
       "<h1 id=\"myh2\">테스트3</h1>\n",
       "<h2>테스트3-1</h2>\n",
       "<div id=\"mydiv\">\n",
       "<span class=\"my\">테스트4</span>\n",
       "<div><span>테스트5</span></div>\n",
       "</div>\n",
       "<ul>\n",
       "<li>사과</li>\n",
       "<li>딸기</li>\n",
       "<li>포도</li>\n",
       "</ul>\n",
       "<img src=\"a.jpg\"/><br/>\n",
       "<img src=\"b.jpg\"/>\n",
       "</body>\n",
       "</html>"
      ]
     },
     "execution_count": 2,
     "metadata": {},
     "output_type": "execute_result"
    }
   ],
   "source": [
    "fp = open('a.html')\n",
    "soup = BeautifulSoup(fp, 'html.parser')\n",
    "soup"
   ]
  },
  {
   "cell_type": "code",
   "execution_count": 3,
   "metadata": {},
   "outputs": [
    {
     "data": {
      "text/plain": [
       "<h1>테스트1</h1>"
      ]
     },
     "execution_count": 3,
     "metadata": {},
     "output_type": "execute_result"
    }
   ],
   "source": [
    "soup.select_one('h1')   # 첫 번재 한개"
   ]
  },
  {
   "cell_type": "code",
   "execution_count": 4,
   "metadata": {},
   "outputs": [
    {
     "data": {
      "text/plain": [
       "[<h1>테스트1</h1>, <h1 class=\"my\">테스트2</h1>, <h1 id=\"myh2\">테스트3</h1>]"
      ]
     },
     "execution_count": 4,
     "metadata": {},
     "output_type": "execute_result"
    }
   ],
   "source": [
    "soup.select('h1')  # all"
   ]
  },
  {
   "cell_type": "code",
   "execution_count": 5,
   "metadata": {},
   "outputs": [
    {
     "data": {
      "text/plain": [
       "[<h2>테스트3-1</h2>]"
      ]
     },
     "execution_count": 5,
     "metadata": {},
     "output_type": "execute_result"
    }
   ],
   "source": [
    "soup.select('h2')"
   ]
  },
  {
   "cell_type": "code",
   "execution_count": 6,
   "metadata": {},
   "outputs": [
    {
     "data": {
      "text/plain": [
       "<h2>테스트3-1</h2>"
      ]
     },
     "execution_count": 6,
     "metadata": {},
     "output_type": "execute_result"
    }
   ],
   "source": [
    "soup.select_one('h2')"
   ]
  },
  {
   "cell_type": "code",
   "execution_count": 7,
   "metadata": {},
   "outputs": [
    {
     "name": "stdout",
     "output_type": "stream",
     "text": [
      "테스트1\n",
      "테스트2\n",
      "테스트3\n"
     ]
    }
   ],
   "source": [
    "for h1 in soup.select('h1'):\n",
    "    print(h1.string)"
   ]
  },
  {
   "cell_type": "code",
   "execution_count": 12,
   "metadata": {},
   "outputs": [
    {
     "data": {
      "text/plain": [
       "[<h1>테스트1</h1>,\n",
       " <h1 class=\"my\">테스트2</h1>,\n",
       " <h1 id=\"myh2\">테스트3</h1>,\n",
       " <h2>테스트3-1</h2>]"
      ]
     },
     "execution_count": 12,
     "metadata": {},
     "output_type": "execute_result"
    }
   ],
   "source": [
    "soup.select('h1,h2')   # h1 or h2"
   ]
  },
  {
   "cell_type": "code",
   "execution_count": 13,
   "metadata": {},
   "outputs": [
    {
     "data": {
      "text/plain": [
       "[<h1 id=\"myh2\">테스트3</h1>]"
      ]
     },
     "execution_count": 13,
     "metadata": {},
     "output_type": "execute_result"
    }
   ],
   "source": [
    "soup.select('#myh2')"
   ]
  },
  {
   "cell_type": "code",
   "execution_count": 15,
   "metadata": {},
   "outputs": [
    {
     "data": {
      "text/plain": [
       "[<html>\n",
       " <body>\n",
       " <h1>테스트1</h1>\n",
       " <h1 class=\"my\">테스트2</h1>\n",
       " <h1 id=\"myh2\">테스트3</h1>\n",
       " <h2>테스트3-1</h2>\n",
       " <div id=\"mydiv\">\n",
       " <span class=\"my\">테스트4</span>\n",
       " <div><span>테스트5</span></div>\n",
       " </div>\n",
       " <ul>\n",
       " <li>사과</li>\n",
       " <li>딸기</li>\n",
       " <li>포도</li>\n",
       " </ul>\n",
       " <img src=\"a.jpg\"/><br/>\n",
       " <img src=\"b.jpg\"/>\n",
       " </body>\n",
       " </html>, <body>\n",
       " <h1>테스트1</h1>\n",
       " <h1 class=\"my\">테스트2</h1>\n",
       " <h1 id=\"myh2\">테스트3</h1>\n",
       " <h2>테스트3-1</h2>\n",
       " <div id=\"mydiv\">\n",
       " <span class=\"my\">테스트4</span>\n",
       " <div><span>테스트5</span></div>\n",
       " </div>\n",
       " <ul>\n",
       " <li>사과</li>\n",
       " <li>딸기</li>\n",
       " <li>포도</li>\n",
       " </ul>\n",
       " <img src=\"a.jpg\"/><br/>\n",
       " <img src=\"b.jpg\"/>\n",
       " </body>, <h1>테스트1</h1>, <h1 class=\"my\">테스트2</h1>, <h1 id=\"myh2\">테스트3</h1>, <h2>테스트3-1</h2>, <div id=\"mydiv\">\n",
       " <span class=\"my\">테스트4</span>\n",
       " <div><span>테스트5</span></div>\n",
       " </div>, <span class=\"my\">테스트4</span>, <div><span>테스트5</span></div>, <span>테스트5</span>, <ul>\n",
       " <li>사과</li>\n",
       " <li>딸기</li>\n",
       " <li>포도</li>\n",
       " </ul>, <li>사과</li>, <li>딸기</li>, <li>포도</li>, <img src=\"a.jpg\"/>, <br/>, <img src=\"b.jpg\"/>]"
      ]
     },
     "execution_count": 15,
     "metadata": {},
     "output_type": "execute_result"
    }
   ],
   "source": [
    "soup.select('*')"
   ]
  },
  {
   "cell_type": "code",
   "execution_count": 17,
   "metadata": {},
   "outputs": [
    {
     "data": {
      "text/plain": [
       "[<li>사과</li>, <li>딸기</li>, <li>포도</li>]"
      ]
     },
     "execution_count": 17,
     "metadata": {},
     "output_type": "execute_result"
    }
   ],
   "source": [
    "soup.select('ul > li')"
   ]
  },
  {
   "cell_type": "code",
   "execution_count": 18,
   "metadata": {},
   "outputs": [
    {
     "data": {
      "text/plain": [
       "[<h1 class=\"my\">테스트2</h1>, <span class=\"my\">테스트4</span>]"
      ]
     },
     "execution_count": 18,
     "metadata": {},
     "output_type": "execute_result"
    }
   ],
   "source": [
    "soup.select('.my')"
   ]
  },
  {
   "cell_type": "code",
   "execution_count": 19,
   "metadata": {},
   "outputs": [
    {
     "data": {
      "text/plain": [
       "[<img src=\"a.jpg\"/>, <img src=\"b.jpg\"/>]"
      ]
     },
     "execution_count": 19,
     "metadata": {},
     "output_type": "execute_result"
    }
   ],
   "source": [
    "soup.select('[src]')   # 속성 선택자"
   ]
  },
  {
   "cell_type": "code",
   "execution_count": 22,
   "metadata": {},
   "outputs": [
    {
     "data": {
      "text/plain": [
       "[<img src=\"a.jpg\"/>, <img src=\"b.jpg\"/>]"
      ]
     },
     "execution_count": 22,
     "metadata": {},
     "output_type": "execute_result"
    }
   ],
   "source": [
    "soup.select('img[src]')"
   ]
  },
  {
   "cell_type": "code",
   "execution_count": 26,
   "metadata": {},
   "outputs": [
    {
     "ename": "ValueError",
     "evalue": "Unsupported or invalid CSS selector: \"[src]img\"",
     "output_type": "error",
     "traceback": [
      "\u001b[1;31m---------------------------------------------------------------------------\u001b[0m",
      "\u001b[1;31mValueError\u001b[0m                                Traceback (most recent call last)",
      "\u001b[1;32m<ipython-input-26-d5e4d8a1e0da>\u001b[0m in \u001b[0;36m<module>\u001b[1;34m\u001b[0m\n\u001b[1;32m----> 1\u001b[1;33m \u001b[0msoup\u001b[0m\u001b[1;33m.\u001b[0m\u001b[0mselect\u001b[0m\u001b[1;33m(\u001b[0m\u001b[1;34m'[src]img'\u001b[0m\u001b[1;33m)\u001b[0m\u001b[1;33m\u001b[0m\u001b[1;33m\u001b[0m\u001b[0m\n\u001b[0m",
      "\u001b[1;32m~\\Anaconda3\\lib\\site-packages\\bs4\\element.py\u001b[0m in \u001b[0;36mselect\u001b[1;34m(self, selector, _candidate_generator, limit)\u001b[0m\n\u001b[0;32m   1552\u001b[0m             \u001b[1;32melse\u001b[0m\u001b[1;33m:\u001b[0m\u001b[1;33m\u001b[0m\u001b[1;33m\u001b[0m\u001b[0m\n\u001b[0;32m   1553\u001b[0m                 raise ValueError(\n\u001b[1;32m-> 1554\u001b[1;33m                     'Unsupported or invalid CSS selector: \"%s\"' % token)\n\u001b[0m\u001b[0;32m   1555\u001b[0m             \u001b[1;32mif\u001b[0m \u001b[0mrecursive_candidate_generator\u001b[0m\u001b[1;33m:\u001b[0m\u001b[1;33m\u001b[0m\u001b[1;33m\u001b[0m\u001b[0m\n\u001b[0;32m   1556\u001b[0m                 \u001b[1;31m# This happens when the selector looks like  \"> foo\".\u001b[0m\u001b[1;33m\u001b[0m\u001b[1;33m\u001b[0m\u001b[1;33m\u001b[0m\u001b[0m\n",
      "\u001b[1;31mValueError\u001b[0m: Unsupported or invalid CSS selector: \"[src]img\""
     ]
    }
   ],
   "source": [
    "# soup.select('[src]img')    => 이건 안됨"
   ]
  },
  {
   "cell_type": "code",
   "execution_count": 23,
   "metadata": {},
   "outputs": [
    {
     "data": {
      "text/plain": [
       "[<h1 class=\"my\">테스트2</h1>]"
      ]
     },
     "execution_count": 23,
     "metadata": {},
     "output_type": "execute_result"
    }
   ],
   "source": [
    "soup.select('h1.my')"
   ]
  },
  {
   "cell_type": "code",
   "execution_count": 25,
   "metadata": {},
   "outputs": [
    {
     "data": {
      "text/plain": [
       "[<h1 class=\"my\">테스트2</h1>]"
      ]
     },
     "execution_count": 25,
     "metadata": {},
     "output_type": "execute_result"
    }
   ],
   "source": [
    "soup.select('h1.my')"
   ]
  },
  {
   "cell_type": "code",
   "execution_count": 27,
   "metadata": {},
   "outputs": [
    {
     "data": {
      "text/plain": [
       "[<span class=\"my\">테스트4</span>, <span>테스트5</span>]"
      ]
     },
     "execution_count": 27,
     "metadata": {},
     "output_type": "execute_result"
    }
   ],
   "source": [
    "soup.select('span')"
   ]
  },
  {
   "cell_type": "code",
   "execution_count": 28,
   "metadata": {},
   "outputs": [
    {
     "data": {
      "text/plain": [
       "[<span class=\"my\">테스트4</span>]"
      ]
     },
     "execution_count": 28,
     "metadata": {},
     "output_type": "execute_result"
    }
   ],
   "source": [
    "soup.select('#mydiv > span')"
   ]
  },
  {
   "cell_type": "code",
   "execution_count": 30,
   "metadata": {},
   "outputs": [
    {
     "data": {
      "text/plain": [
       "[<span class=\"my\">테스트4</span>, <span>테스트5</span>]"
      ]
     },
     "execution_count": 30,
     "metadata": {},
     "output_type": "execute_result"
    }
   ],
   "source": [
    "soup.select('#mydiv span')"
   ]
  }
 ],
 "metadata": {
  "kernelspec": {
   "display_name": "Python 3",
   "language": "python",
   "name": "python3"
  },
  "language_info": {
   "codemirror_mode": {
    "name": "ipython",
    "version": 3
   },
   "file_extension": ".py",
   "mimetype": "text/x-python",
   "name": "python",
   "nbconvert_exporter": "python",
   "pygments_lexer": "ipython3",
   "version": "3.7.1"
  }
 },
 "nbformat": 4,
 "nbformat_minor": 2
}
