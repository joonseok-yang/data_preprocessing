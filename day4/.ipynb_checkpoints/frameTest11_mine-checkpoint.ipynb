{
 "cells": [
  {
   "cell_type": "code",
   "execution_count": 1,
   "metadata": {},
   "outputs": [],
   "source": [
    "import pandas as pd\n",
    "import numpy as np\n",
    "# import matplotlib.pyplot as plt\n",
    "# import matplotlib\n",
    "# import warnings\n",
    "# matplotlib.rcParams['font.family']='Malgun Gothic'\n",
    "# matplotlib.rcParams['axes.unicode_minus']=False\n",
    "# warnings.simplefilter('ignore')"
   ]
  },
  {
   "cell_type": "code",
   "execution_count": 3,
   "metadata": {},
   "outputs": [
    {
     "data": {
      "text/html": [
       "<div>\n",
       "<style scoped>\n",
       "    .dataframe tbody tr th:only-of-type {\n",
       "        vertical-align: middle;\n",
       "    }\n",
       "\n",
       "    .dataframe tbody tr th {\n",
       "        vertical-align: top;\n",
       "    }\n",
       "\n",
       "    .dataframe thead th {\n",
       "        text-align: right;\n",
       "    }\n",
       "</style>\n",
       "<table border=\"1\" class=\"dataframe\">\n",
       "  <thead>\n",
       "    <tr style=\"text-align: right;\">\n",
       "      <th></th>\n",
       "      <th>grade</th>\n",
       "      <th>rate</th>\n",
       "      <th>price</th>\n",
       "    </tr>\n",
       "  </thead>\n",
       "  <tbody>\n",
       "    <tr>\n",
       "      <th>호텔1</th>\n",
       "      <td>10</td>\n",
       "      <td>1</td>\n",
       "      <td>9500</td>\n",
       "    </tr>\n",
       "    <tr>\n",
       "      <th>호텔2</th>\n",
       "      <td>8</td>\n",
       "      <td>2</td>\n",
       "      <td>8000</td>\n",
       "    </tr>\n",
       "    <tr>\n",
       "      <th>호텔3</th>\n",
       "      <td>6</td>\n",
       "      <td>4</td>\n",
       "      <td>6000</td>\n",
       "    </tr>\n",
       "    <tr>\n",
       "      <th>호텔4</th>\n",
       "      <td>9</td>\n",
       "      <td>2</td>\n",
       "      <td>8600</td>\n",
       "    </tr>\n",
       "    <tr>\n",
       "      <th>호텔5</th>\n",
       "      <td>7</td>\n",
       "      <td>4</td>\n",
       "      <td>7000</td>\n",
       "    </tr>\n",
       "    <tr>\n",
       "      <th>호텔6</th>\n",
       "      <td>8</td>\n",
       "      <td>2</td>\n",
       "      <td>8300</td>\n",
       "    </tr>\n",
       "    <tr>\n",
       "      <th>호텔7</th>\n",
       "      <td>5</td>\n",
       "      <td>5</td>\n",
       "      <td>5000</td>\n",
       "    </tr>\n",
       "    <tr>\n",
       "      <th>호텔8</th>\n",
       "      <td>5</td>\n",
       "      <td>5</td>\n",
       "      <td>5200</td>\n",
       "    </tr>\n",
       "    <tr>\n",
       "      <th>호텔9</th>\n",
       "      <td>8</td>\n",
       "      <td>3</td>\n",
       "      <td>8100</td>\n",
       "    </tr>\n",
       "    <tr>\n",
       "      <th>호텔10</th>\n",
       "      <td>10</td>\n",
       "      <td>1</td>\n",
       "      <td>9300</td>\n",
       "    </tr>\n",
       "    <tr>\n",
       "      <th>호텔11</th>\n",
       "      <td>9</td>\n",
       "      <td>3</td>\n",
       "      <td>8800</td>\n",
       "    </tr>\n",
       "    <tr>\n",
       "      <th>호텔12</th>\n",
       "      <td>7</td>\n",
       "      <td>4</td>\n",
       "      <td>7100</td>\n",
       "    </tr>\n",
       "    <tr>\n",
       "      <th>호텔13</th>\n",
       "      <td>8</td>\n",
       "      <td>3</td>\n",
       "      <td>8500</td>\n",
       "    </tr>\n",
       "    <tr>\n",
       "      <th>호텔14</th>\n",
       "      <td>5</td>\n",
       "      <td>4</td>\n",
       "      <td>5200</td>\n",
       "    </tr>\n",
       "    <tr>\n",
       "      <th>호텔15</th>\n",
       "      <td>5</td>\n",
       "      <td>5</td>\n",
       "      <td>3200</td>\n",
       "    </tr>\n",
       "    <tr>\n",
       "      <th>호텔16</th>\n",
       "      <td>6</td>\n",
       "      <td>4</td>\n",
       "      <td>6800</td>\n",
       "    </tr>\n",
       "    <tr>\n",
       "      <th>호텔17</th>\n",
       "      <td>7</td>\n",
       "      <td>4</td>\n",
       "      <td>7100</td>\n",
       "    </tr>\n",
       "    <tr>\n",
       "      <th>호텔18</th>\n",
       "      <td>8</td>\n",
       "      <td>3</td>\n",
       "      <td>8400</td>\n",
       "    </tr>\n",
       "    <tr>\n",
       "      <th>호텔19</th>\n",
       "      <td>5</td>\n",
       "      <td>4</td>\n",
       "      <td>2200</td>\n",
       "    </tr>\n",
       "    <tr>\n",
       "      <th>호텔20</th>\n",
       "      <td>5</td>\n",
       "      <td>5</td>\n",
       "      <td>4500</td>\n",
       "    </tr>\n",
       "  </tbody>\n",
       "</table>\n",
       "</div>"
      ],
      "text/plain": [
       "      grade  rate  price\n",
       "호텔1      10     1   9500\n",
       "호텔2       8     2   8000\n",
       "호텔3       6     4   6000\n",
       "호텔4       9     2   8600\n",
       "호텔5       7     4   7000\n",
       "호텔6       8     2   8300\n",
       "호텔7       5     5   5000\n",
       "호텔8       5     5   5200\n",
       "호텔9       8     3   8100\n",
       "호텔10     10     1   9300\n",
       "호텔11      9     3   8800\n",
       "호텔12      7     4   7100\n",
       "호텔13      8     3   8500\n",
       "호텔14      5     4   5200\n",
       "호텔15      5     5   3200\n",
       "호텔16      6     4   6800\n",
       "호텔17      7     4   7100\n",
       "호텔18      8     3   8400\n",
       "호텔19      5     4   2200\n",
       "호텔20      5     5   4500"
      ]
     },
     "execution_count": 3,
     "metadata": {},
     "output_type": "execute_result"
    }
   ],
   "source": [
    "df = pd.read_excel(r'hotel.xlsx', index_col=0)\n",
    "df"
   ]
  },
  {
   "cell_type": "code",
   "execution_count": 12,
   "metadata": {},
   "outputs": [
    {
     "data": {
      "text/plain": [
       "pandas.core.groupby.generic.DataFrameGroupBy"
      ]
     },
     "execution_count": 12,
     "metadata": {},
     "output_type": "execute_result"
    }
   ],
   "source": [
    "# 호텔 등급 별 가격의 합? 의미는 없음\n",
    "g = df.groupby('grade')\n",
    "type(g)"
   ]
  },
  {
   "cell_type": "code",
   "execution_count": 15,
   "metadata": {},
   "outputs": [
    {
     "data": {
      "text/plain": [
       "grade\n",
       "5     25300\n",
       "6     12800\n",
       "7     21200\n",
       "8     41300\n",
       "9     17400\n",
       "10    18800\n",
       "Name: price, dtype: int64"
      ]
     },
     "execution_count": 15,
     "metadata": {},
     "output_type": "execute_result"
    }
   ],
   "source": [
    "# group(집계) 관련멤버함수(sum, count, max, min, mean, agg)\n",
    "g['price'].sum() # 집계 가능한 모든 column (e.g., int, float)"
   ]
  },
  {
   "cell_type": "code",
   "execution_count": null,
   "metadata": {},
   "outputs": [],
   "source": []
  }
 ],
 "metadata": {
  "kernelspec": {
   "display_name": "Python 3",
   "language": "python",
   "name": "python3"
  },
  "language_info": {
   "codemirror_mode": {
    "name": "ipython",
    "version": 3
   },
   "file_extension": ".py",
   "mimetype": "text/x-python",
   "name": "python",
   "nbconvert_exporter": "python",
   "pygments_lexer": "ipython3",
   "version": "3.7.1"
  }
 },
 "nbformat": 4,
 "nbformat_minor": 2
}
