{
 "cells": [
  {
   "cell_type": "code",
   "execution_count": 1,
   "metadata": {},
   "outputs": [],
   "source": [
    "from bs4 import BeautifulSoup\n",
    "import urllib.request as REQ"
   ]
  },
  {
   "cell_type": "code",
   "execution_count": 3,
   "metadata": {},
   "outputs": [],
   "source": [
    "nurl ='https://news.naver.com/'\n",
    "response = REQ.urlopen(nurl)\n",
    "soup = BeautifulSoup( response, 'html.parser')"
   ]
  },
  {
   "cell_type": "code",
   "execution_count": 5,
   "metadata": {},
   "outputs": [
    {
     "name": "stdout",
     "output_type": "stream",
     "text": [
      "[4·3보선]민심 경고등 확인한 文…국정 운영 부담 더 커질 듯\n",
      "경상수지 흑자, 불안한 흐름…수출입 동반 부진\n",
      "세계 최초 5G 상용화 코 앞…어떤 의미 가지나\n",
      "교육위, '독도 일본땅' 담은 日교과서 시정 촉구 결의안 의결\n",
      "강풍 속 건조특보 '화재 주의'…낮 기온 올라\n",
      "로이킴도 단톡방에 음란물 올려…정보통신망법 위반 입건\n",
      "'불쾌한 손' 논란 바이든 \"개인 공간 존중 유념하겠다\"\n",
      "방미 외교안보라인 속속 귀국길…한미정상회담 사전조율 주목\n",
      "병원 예약이 새벽4시···MRI 건보에 환자 장사진 풍경\n",
      "\"30대 기업 임원 4명중 1명은 '해외파'…평균 연령 53세\"\n"
     ]
    }
   ],
   "source": [
    "for strong in soup.select( '.newsnow_tx_inner strong'):\n",
    "    print(strong.string)"
   ]
  }
 ],
 "metadata": {
  "kernelspec": {
   "display_name": "Python 3",
   "language": "python",
   "name": "python3"
  },
  "language_info": {
   "codemirror_mode": {
    "name": "ipython",
    "version": 3
   },
   "file_extension": ".py",
   "mimetype": "text/x-python",
   "name": "python",
   "nbconvert_exporter": "python",
   "pygments_lexer": "ipython3",
   "version": "3.7.1"
  }
 },
 "nbformat": 4,
 "nbformat_minor": 2
}
