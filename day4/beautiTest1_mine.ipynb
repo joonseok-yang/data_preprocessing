{
 "cells": [
  {
   "cell_type": "markdown",
   "metadata": {},
   "source": [
    "BeautifulSoup => 강력한 파싱 기능\n",
    "\n",
    "selenium => 브라우저 직접 제어 가능"
   ]
  },
  {
   "cell_type": "code",
   "execution_count": 1,
   "metadata": {},
   "outputs": [],
   "source": [
    "from bs4 import BeautifulSoup"
   ]
  },
  {
   "cell_type": "code",
   "execution_count": 4,
   "metadata": {},
   "outputs": [
    {
     "data": {
      "text/plain": [
       "<kpop>\n",
       "<slist>\n",
       "<song album=\"album1\">\n",
       "<singer>singer1</singer>\n",
       "<title>title1</title>\n",
       "</song>\n",
       "<song album=\"album2\">\n",
       "<singer>singer2</singer>\n",
       "<title>title2</title>\n",
       "</song>\n",
       "<song album=\"album3\">\n",
       "<singer>singer3</singer>\n",
       "<title>title3</title>\n",
       "</song>\n",
       "</slist>\n",
       "</kpop>"
      ]
     },
     "execution_count": 4,
     "metadata": {},
     "output_type": "execute_result"
    }
   ],
   "source": [
    "fp = open('song.xml', 'r')\n",
    "soup = BeautifulSoup(fp, 'html.parser') # str -> element 객체\n",
    "soup"
   ]
  },
  {
   "cell_type": "code",
   "execution_count": 5,
   "metadata": {},
   "outputs": [
    {
     "data": {
      "text/plain": [
       "bs4.BeautifulSoup"
      ]
     },
     "execution_count": 5,
     "metadata": {},
     "output_type": "execute_result"
    }
   ],
   "source": [
    "type(soup)"
   ]
  },
  {
   "cell_type": "code",
   "execution_count": 6,
   "metadata": {},
   "outputs": [
    {
     "data": {
      "text/plain": [
       "<slist>\n",
       "<song album=\"album1\">\n",
       "<singer>singer1</singer>\n",
       "<title>title1</title>\n",
       "</song>\n",
       "<song album=\"album2\">\n",
       "<singer>singer2</singer>\n",
       "<title>title2</title>\n",
       "</song>\n",
       "<song album=\"album3\">\n",
       "<singer>singer3</singer>\n",
       "<title>title3</title>\n",
       "</song>\n",
       "</slist>"
      ]
     },
     "execution_count": 6,
     "metadata": {},
     "output_type": "execute_result"
    }
   ],
   "source": [
    "soup.slist # . (자식 및 후손 element 접근시 사용)"
   ]
  },
  {
   "cell_type": "code",
   "execution_count": 9,
   "metadata": {},
   "outputs": [
    {
     "data": {
      "text/plain": [
       "<song album=\"album1\">\n",
       "<singer>singer1</singer>\n",
       "<title>title1</title>\n",
       "</song>"
      ]
     },
     "execution_count": 9,
     "metadata": {},
     "output_type": "execute_result"
    }
   ],
   "source": [
    "soup.song"
   ]
  },
  {
   "cell_type": "code",
   "execution_count": 12,
   "metadata": {},
   "outputs": [
    {
     "data": {
      "text/plain": [
       "<slist>\n",
       "<song album=\"album1\">\n",
       "<singer>singer1</singer>\n",
       "<title>title1</title>\n",
       "</song>\n",
       "<song album=\"album2\">\n",
       "<singer>singer2</singer>\n",
       "<title>title2</title>\n",
       "</song>\n",
       "<song album=\"album3\">\n",
       "<singer>singer3</singer>\n",
       "<title>title3</title>\n",
       "</song>\n",
       "</slist>"
      ]
     },
     "execution_count": 12,
     "metadata": {},
     "output_type": "execute_result"
    }
   ],
   "source": [
    "soup.find('slist')"
   ]
  },
  {
   "cell_type": "code",
   "execution_count": 14,
   "metadata": {},
   "outputs": [
    {
     "data": {
      "text/plain": [
       "<song album=\"album1\">\n",
       "<singer>singer1</singer>\n",
       "<title>title1</title>\n",
       "</song>"
      ]
     },
     "execution_count": 14,
     "metadata": {},
     "output_type": "execute_result"
    }
   ],
   "source": [
    "soup.find('song')"
   ]
  },
  {
   "cell_type": "code",
   "execution_count": 15,
   "metadata": {},
   "outputs": [
    {
     "data": {
      "text/plain": [
       "<song album=\"album2\">\n",
       "<singer>singer2</singer>\n",
       "<title>title2</title>\n",
       "</song>"
      ]
     },
     "execution_count": 15,
     "metadata": {},
     "output_type": "execute_result"
    }
   ],
   "source": [
    "soup.find('song', {'album':'album2'})"
   ]
  },
  {
   "cell_type": "code",
   "execution_count": 18,
   "metadata": {},
   "outputs": [
    {
     "data": {
      "text/plain": [
       "bs4.element.NavigableString"
      ]
     },
     "execution_count": 18,
     "metadata": {},
     "output_type": "execute_result"
    }
   ],
   "source": [
    "# soup.song.singer\n",
    "soup.song.singer.string\n",
    "type(soup.song.singer.string)"
   ]
  },
  {
   "cell_type": "code",
   "execution_count": 19,
   "metadata": {},
   "outputs": [
    {
     "data": {
      "text/plain": [
       "[<song album=\"album1\">\n",
       " <singer>singer1</singer>\n",
       " <title>title1</title>\n",
       " </song>, <song album=\"album2\">\n",
       " <singer>singer2</singer>\n",
       " <title>title2</title>\n",
       " </song>, <song album=\"album3\">\n",
       " <singer>singer3</singer>\n",
       " <title>title3</title>\n",
       " </song>]"
      ]
     },
     "execution_count": 19,
     "metadata": {},
     "output_type": "execute_result"
    }
   ],
   "source": [
    "soup.findAll('song')"
   ]
  },
  {
   "cell_type": "code",
   "execution_count": 21,
   "metadata": {},
   "outputs": [
    {
     "name": "stdout",
     "output_type": "stream",
     "text": [
      "\n",
      "\n",
      "<singer>singer1</singer>\n",
      "\n",
      "\n",
      "<title>title1</title>\n",
      "\n",
      "\n"
     ]
    }
   ],
   "source": [
    "for item in soup.find('song'):\n",
    "    print(item)"
   ]
  },
  {
   "cell_type": "code",
   "execution_count": 26,
   "metadata": {},
   "outputs": [
    {
     "name": "stdout",
     "output_type": "stream",
     "text": [
      "<song album=\"album1\">\n",
      "<singer>singer1</singer>\n",
      "<title>title1</title>\n",
      "</song>\n",
      "<song album=\"album2\">\n",
      "<singer>singer2</singer>\n",
      "<title>title2</title>\n",
      "</song>\n",
      "<song album=\"album3\">\n",
      "<singer>singer3</singer>\n",
      "<title>title3</title>\n",
      "</song>\n"
     ]
    }
   ],
   "source": [
    "for item in soup.findAll('song'):\n",
    "    print(item)"
   ]
  },
  {
   "cell_type": "code",
   "execution_count": 27,
   "metadata": {},
   "outputs": [
    {
     "name": "stdout",
     "output_type": "stream",
     "text": [
      "<song album=\"album1\">\n",
      "<singer>singer1</singer>\n",
      "<title>title1</title>\n",
      "</song>\n",
      "==============================\n",
      "<song album=\"album2\">\n",
      "<singer>singer2</singer>\n",
      "<title>title2</title>\n",
      "</song>\n",
      "==============================\n",
      "<song album=\"album3\">\n",
      "<singer>singer3</singer>\n",
      "<title>title3</title>\n",
      "</song>\n",
      "==============================\n"
     ]
    }
   ],
   "source": [
    "songs = soup.findAll('song')\n",
    "for song in songs:\n",
    "    print(song)\n",
    "    print(\"=\"*30)"
   ]
  },
  {
   "cell_type": "code",
   "execution_count": 29,
   "metadata": {},
   "outputs": [
    {
     "name": "stdout",
     "output_type": "stream",
     "text": [
      "singer1\n",
      "title1\n",
      "==============================\n",
      "singer2\n",
      "title2\n",
      "==============================\n",
      "singer3\n",
      "title3\n",
      "==============================\n"
     ]
    }
   ],
   "source": [
    "songs = soup.findAll('song')\n",
    "for song in songs:\n",
    "    print(song.singer.string)\n",
    "    print(song.title.string)\n",
    "    print(\"=\"*30)"
   ]
  },
  {
   "cell_type": "code",
   "execution_count": 30,
   "metadata": {},
   "outputs": [
    {
     "name": "stdout",
     "output_type": "stream",
     "text": [
      "album1\n",
      "singer1\n",
      "title1\n",
      "==============================\n",
      "album2\n",
      "singer2\n",
      "title2\n",
      "==============================\n",
      "album3\n",
      "singer3\n",
      "title3\n",
      "==============================\n"
     ]
    }
   ],
   "source": [
    "for song in songs:\n",
    "    print(song['album'])\n",
    "    print(song.singer.string)\n",
    "    print(song.title.string)\n",
    "    print(\"=\"*30)"
   ]
  }
 ],
 "metadata": {
  "kernelspec": {
   "display_name": "Python 3",
   "language": "python",
   "name": "python3"
  },
  "language_info": {
   "codemirror_mode": {
    "name": "ipython",
    "version": 3
   },
   "file_extension": ".py",
   "mimetype": "text/x-python",
   "name": "python",
   "nbconvert_exporter": "python",
   "pygments_lexer": "ipython3",
   "version": "3.7.1"
  }
 },
 "nbformat": 4,
 "nbformat_minor": 2
}
