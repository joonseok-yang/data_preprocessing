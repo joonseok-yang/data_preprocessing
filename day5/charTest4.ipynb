{
 "cells": [
  {
   "cell_type": "code",
   "execution_count": 2,
   "metadata": {},
   "outputs": [],
   "source": [
    "import pandas as pd\n",
    "import numpy as np\n",
    "import matplotlib.pyplot as plt\n",
    "import matplotlib\n",
    "matplotlib.rcParams['font.family']='Malgun Gothic'\n",
    "matplotlib.rcParams['axes.unicode_minus'] = False"
   ]
  },
  {
   "cell_type": "code",
   "execution_count": 3,
   "metadata": {},
   "outputs": [
    {
     "data": {
      "text/plain": [
       "array([31, 41, 30, 46, 47, 82, 70, 84, 76, 48, 80, 58, 54, 83, 51, 76, 49,\n",
       "       83, 38, 90, 90, 46, 57, 50, 50, 50, 87, 47, 40, 36, 51, 48, 93, 57,\n",
       "       65, 82, 98, 98, 50, 91, 84, 35, 30, 44, 84, 68, 45, 84, 65, 37, 77,\n",
       "       74, 73, 30, 99, 63, 86, 63, 70, 58, 73, 74, 61, 64, 54, 40, 87, 76,\n",
       "       84, 71, 97, 65, 69, 61, 99, 56, 43, 47, 69, 32, 51, 97, 36, 51, 55,\n",
       "       48, 47, 35, 61, 93, 73, 88, 65, 89, 68, 53, 57, 98, 80, 98])"
      ]
     },
     "execution_count": 3,
     "metadata": {},
     "output_type": "execute_result"
    }
   ],
   "source": [
    "math= np.random.randint( 30,101,size=100 ) #30<= r <101\n",
    "math"
   ]
  },
  {
   "cell_type": "code",
   "execution_count": 9,
   "metadata": {},
   "outputs": [
    {
     "name": "stdout",
     "output_type": "stream",
     "text": [
      "(array([ 0.,  0.,  0., 11., 16., 18., 14., 12., 16., 13.]), array([  0.,  10.,  20.,  30.,  40.,  50.,  60.,  70.,  80.,  90., 100.]), <a list of 10 Patch objects>)\n",
      "[ 0.  0.  0. 11. 16. 18. 14. 12. 16. 13.]\n",
      "[  0.  10.  20.  30.  40.  50.  60.  70.  80.  90. 100.]\n"
     ]
    },
    {
     "data": {
      "image/png": "[encoded data removed]",
      "text/plain": [
       "<Figure size 432x288 with 1 Axes>"
      ]
     },
     "metadata": {
      "needs_background": "light"
     },
     "output_type": "display_data"
    }
   ],
   "source": [
    "h = plt.hist(math, bins=10, range=(0,100)) #10계급\n",
    "print(h)\n",
    "print(h[0])\n",
    "print(h[1])\n",
    "plt.grid(True)\n",
    "plt.xlabel('수학점수')\n",
    "plt.ylabel('도수')\n",
    "plt.title('수학점수 히스토그램')\n",
    "plt.show()"
   ]
  }
 ],
 "metadata": {
  "kernelspec": {
   "display_name": "Python 3",
   "language": "python",
   "name": "python3"
  },
  "language_info": {
   "codemirror_mode": {
    "name": "ipython",
    "version": 3
   },
   "file_extension": ".py",
   "mimetype": "text/x-python",
   "name": "python",
   "nbconvert_exporter": "python",
   "pygments_lexer": "ipython3",
   "version": "3.6.7"
  }
 },
 "nbformat": 4,
 "nbformat_minor": 2
}
