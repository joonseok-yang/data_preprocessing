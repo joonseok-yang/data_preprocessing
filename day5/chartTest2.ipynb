{
 "cells": [
  {
   "cell_type": "code",
   "execution_count": 12,
   "metadata": {},
   "outputs": [],
   "source": [
    "import pandas as pd\n",
    "import numpy as np\n",
    "import matplotlib.pyplot as plt\n",
    "import matplotlib\n",
    "\n",
    "matplotlib.rcParams['font.family']='Malgun Gothic'\n",
    "matplotlib.rcParams['axes.unicode_minus'] = False"
   ]
  },
  {
   "cell_type": "code",
   "execution_count": 13,
   "metadata": {},
   "outputs": [
    {
     "data": {
      "image/png": "[encoded data removed]",
      "text/plain": [
       "<Figure size 432x288 with 1 Axes>"
      ]
     },
     "metadata": {
      "needs_background": "light"
     },
     "output_type": "display_data"
    }
   ],
   "source": [
    "height = [165,177,160,180,185,155,172]\n",
    "weight = [62,67,55,74,90,43,64]\n",
    "# plt.scatter( height, weight)\n",
    "plt.scatter( [ str(n) for n in height ], weight,\n",
    "           c=['r','g','b','k','m','y','c'],\n",
    "           s=[100,150,200,250,300,350,400], alpha=0.5 )\n",
    "plt.xlabel('키')\n",
    "plt.ylabel('몸무게')\n",
    "plt.grid(True)\n",
    "plt.text('165',62,'aa')\n",
    "plt.show()"
   ]
  },
  {
   "cell_type": "code",
   "execution_count": null,
   "metadata": {},
   "outputs": [],
   "source": [
    "plt.text('165',62,'aa') <========주의\n",
    "표준체중(kg)=(신장(cm)-100)×0.85\n",
    " 비만도(%)=현재체중/표준체중×100\n",
    "\n",
    "비만도가\n",
    "90이하:저체중,\n",
    "90∼110:정상,\n",
    "110∼120:과체중,\n",
    "120이상:비만\n",
    "그래프각점에 비만도결과값(저체중, 정상,과체중, 비만)글자를\n",
    "표시하고 원의 크기는  각 결과 값에 다른 크기로\n",
    "그리시요."
   ]
  },
  {
   "cell_type": "code",
   "execution_count": 14,
   "metadata": {},
   "outputs": [],
   "source": [
    "bsize=[]\n",
    "bcolor=[]\n",
    "btext=[]\n",
    "def obesity( h, w):\n",
    "    stdW = (h-100)*0.85\n",
    "    biman = w/stdW*100    \n",
    "    if biman<=90:\n",
    "        bsize.append(100)\n",
    "        bcolor.append('y')\n",
    "        btext.append('저체중')\n",
    "    elif  90 < biman<=110:\n",
    "        bsize.append(200)\n",
    "        bcolor.append('b')\n",
    "        btext.append('정상')\n",
    "    elif  110 < biman<=120:\n",
    "        bsize.append(300)\n",
    "        bcolor.append('c')\n",
    "        btext.append('과체중')\n",
    "    else:\n",
    "        bsize.append(400)\n",
    "        bcolor.append('r')\n",
    "        btext.append('비만')        "
   ]
  },
  {
   "cell_type": "code",
   "execution_count": 15,
   "metadata": {},
   "outputs": [
    {
     "name": "stdout",
     "output_type": "stream",
     "text": [
      "[300, 200, 200, 200, 400, 200, 200]\n",
      "['c', 'b', 'b', 'b', 'r', 'b', 'b']\n",
      "['과체중', '정상', '정상', '정상', '비만', '정상', '정상']\n"
     ]
    }
   ],
   "source": [
    "height = [165,177,160,180,185,155,172]\n",
    "weight = [62,67,55,74,90,43,64]\n",
    "for h,w in zip(height,weight):\n",
    "    obesity( h,w)\n",
    "print( bsize )\n",
    "print( bcolor )\n",
    "print( btext)"
   ]
  },
  {
   "cell_type": "code",
   "execution_count": 17,
   "metadata": {},
   "outputs": [
    {
     "data": {
      "image/png": "[encoded data removed]",
      "text/plain": [
       "<Figure size 432x288 with 1 Axes>"
      ]
     },
     "metadata": {
      "needs_background": "light"
     },
     "output_type": "display_data"
    }
   ],
   "source": [
    "plt.scatter( [ str(n) for n in height ], weight,\n",
    "           c=bcolor, s=bsize, alpha=0.5 )\n",
    "plt.xlabel('키')\n",
    "plt.ylabel('몸무게')\n",
    "plt.grid(True)\n",
    "for x,y,t in zip(height,weight, btext):\n",
    "    plt.text( str(x),y,t )\n",
    "plt.show()"
   ]
  }
 ],
 "metadata": {
  "kernelspec": {
   "display_name": "Python 3",
   "language": "python",
   "name": "python3"
  },
  "language_info": {
   "codemirror_mode": {
    "name": "ipython",
    "version": 3
   },
   "file_extension": ".py",
   "mimetype": "text/x-python",
   "name": "python",
   "nbconvert_exporter": "python",
   "pygments_lexer": "ipython3",
   "version": "3.7.1"
  }
 },
 "nbformat": 4,
 "nbformat_minor": 2
}
