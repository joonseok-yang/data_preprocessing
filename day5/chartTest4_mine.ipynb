{
 "cells": [
  {
   "cell_type": "code",
   "execution_count": 1,
   "metadata": {},
   "outputs": [],
   "source": [
    "import pandas as pd\n",
    "import numpy as np\n",
    "import matplotlib.pyplot as plt\n",
    "import matplotlib\n",
    "import warnings\n",
    "matplotlib.rcParams['font.family']='Malgun Gothic'\n",
    "matplotlib.rcParams['font.size']=15\n",
    "matplotlib.rcParams['axes.unicode_minus']=False\n",
    "warnings.simplefilter('ignore')"
   ]
  },
  {
   "cell_type": "code",
   "execution_count": 3,
   "metadata": {},
   "outputs": [
    {
     "data": {
      "text/plain": [
       "array([86, 78, 37, 58, 59, 46, 76, 95, 85, 88, 52, 55, 36, 79, 92, 97, 95,\n",
       "       48, 62, 48, 71, 32, 88, 60, 70, 75, 92, 42, 87, 91, 78, 38, 93, 79,\n",
       "       95, 77, 58, 66, 72, 30, 94, 46, 66, 60, 66, 62, 92, 43, 34, 39, 98,\n",
       "       65, 92, 31, 87, 73, 38, 56, 87, 64, 64, 83, 84, 75, 99, 56, 70, 56,\n",
       "       34, 91, 58, 91, 82, 42, 32, 98, 85, 33, 76, 62, 68, 58, 71, 38, 74,\n",
       "       53, 36, 69, 74, 92, 94, 81, 90, 37, 64, 31, 67, 32, 54, 94])"
      ]
     },
     "execution_count": 3,
     "metadata": {},
     "output_type": "execute_result"
    }
   ],
   "source": [
    "math = np.random.randint(30, 101, size=100) # 30<= x < 101\n",
    "math"
   ]
  },
  {
   "cell_type": "code",
   "execution_count": 16,
   "metadata": {},
   "outputs": [
    {
     "data": {
      "image/png": "[encoded data removed]",
      "text/plain": [
       "<Figure size 432x288 with 1 Axes>"
      ]
     },
     "metadata": {
      "needs_background": "light"
     },
     "output_type": "display_data"
    }
   ],
   "source": [
    "h = plt.hist(math, bins=10, range=(0,100))\n",
    "# print(h)\n",
    "# print(h[0])  # len == 10\n",
    "# print(h[1])  # len == 11\n",
    "\n",
    "plt.grid(True)\n",
    "plt.xlabel('수학점수')\n",
    "plt.ylabel('도수')\n",
    "plt.title('수학점수 히스토그램')\n",
    "plt.show()"
   ]
  },
  {
   "cell_type": "code",
   "execution_count": null,
   "metadata": {},
   "outputs": [],
   "source": []
  }
 ],
 "metadata": {
  "kernelspec": {
   "display_name": "Python 3",
   "language": "python",
   "name": "python3"
  },
  "language_info": {
   "codemirror_mode": {
    "name": "ipython",
    "version": 3
   },
   "file_extension": ".py",
   "mimetype": "text/x-python",
   "name": "python",
   "nbconvert_exporter": "python",
   "pygments_lexer": "ipython3",
   "version": "3.7.1"
  }
 },
 "nbformat": 4,
 "nbformat_minor": 2
}
